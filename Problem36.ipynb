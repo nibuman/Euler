{
 "cells": [
  {
   "cell_type": "markdown",
   "metadata": {},
   "source": [
    "# Problem 36\n",
    "## Double-base palindromes\n",
    "\n",
    "The decimal number, $585 = 1001001001_2$ (binary), is palindromic in both bases.\n",
    "\n",
    "Find the sum of all numbers, less than one million, which are palindromic in base 10 and base 2.\n",
    "\n",
    "note that the palindromic number, in either base, may not include leading zeros.\n"
   ]
  },
  {
   "cell_type": "code",
   "execution_count": 15,
   "metadata": {},
   "outputs": [
    {
     "name": "stdout",
     "output_type": "stream",
     "text": [
      "872187\n"
     ]
    }
   ],
   "source": [
    "def DecToBinStr(dec_num):\n",
    "    bin_num = bin(dec_num)\n",
    "    return str(bin_num)[2:] #remove the 0b from the start of the string\n",
    "\n",
    "def IsPalindrome(this_string):\n",
    "    for n in range(len(this_string) // 2):\n",
    "        if not this_string[n] == this_string[-1-n]:\n",
    "            return False\n",
    "    else:\n",
    "        return True\n",
    "\n",
    "limit = 1000000\n",
    "sum_of_palindromes = 0 \n",
    "\n",
    "for dec_num in range(1, limit, 2):\n",
    "    if IsPalindrome(str(dec_num)):\n",
    "        bin_str = DecToBinStr(dec_num)\n",
    "        if IsPalindrome(bin_str):\n",
    "            sum_of_palindromes += dec_num\n",
    "print(sum_of_palindromes)\n"
   ]
  }
 ],
 "metadata": {
  "interpreter": {
   "hash": "916dbcbb3f70747c44a77c7bcd40155683ae19c65e1c03b4aa3499c5328201f1"
  },
  "kernelspec": {
   "display_name": "Python 3.10.4 64-bit",
   "language": "python",
   "name": "python3"
  },
  "language_info": {
   "codemirror_mode": {
    "name": "ipython",
    "version": 3
   },
   "file_extension": ".py",
   "mimetype": "text/x-python",
   "name": "python",
   "nbconvert_exporter": "python",
   "pygments_lexer": "ipython3",
   "version": "3.10.4"
  },
  "orig_nbformat": 4
 },
 "nbformat": 4,
 "nbformat_minor": 2
}
