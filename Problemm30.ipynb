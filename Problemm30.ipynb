{
 "cells": [
  {
   "cell_type": "markdown",
   "metadata": {},
   "source": [
    "# Problem 30\n",
    "## Digit 5th powers\n",
    "\n",
    "\n",
    "\n",
    "Surprisingly there are only three numbers that can be written as the sum of fourth powers of their digits:\n",
    "\n",
    "$1634 = 1^4 + 6^4 + 3^4 + 4^4$ \\\n",
    "$8208 = 8^4 + 2^4 + 0^4 + 8^4$ \\\n",
    "$9474 = 9^4 + 4^4 + 7^4 + 4^4$ \n",
    "\n",
    "As $1 = 1^4$ is not a sum it is not included.\n",
    "\n",
    "The sum of these numbers is $1634 + 8208 + 9474 = 19316$.\n",
    "\n",
    "Find the sum of all the numbers that can be written as the sum of fifth powers of their digits.\n"
   ]
  },
  {
   "cell_type": "code",
   "execution_count": 8,
   "metadata": {},
   "outputs": [
    {
     "name": "stdout",
     "output_type": "stream",
     "text": [
      "4150\n",
      "4151\n",
      "54748\n",
      "92727\n",
      "93084\n",
      "194979\n",
      "Total sum =  443839\n"
     ]
    }
   ],
   "source": [
    "max_num = 5000000\n",
    "start_num = 100\n",
    "powers = 5\n",
    "total_sum = 0\n",
    "\n",
    "def intToList(num):\n",
    "    return list(str(num))\n",
    "\n",
    "for n in range(start_num, max_num):\n",
    "    n_digits = intToList(n)\n",
    "    current_sum = 0 \n",
    "    for d in n_digits:\n",
    "        current_sum = current_sum + pow(int(d), powers)\n",
    "    if current_sum == n:\n",
    "        print(current_sum)\n",
    "        total_sum = total_sum + current_sum\n",
    "\n",
    "print(\"Total sum = \", total_sum)\n",
    "\n"
   ]
  }
 ],
 "metadata": {
  "interpreter": {
   "hash": "916dbcbb3f70747c44a77c7bcd40155683ae19c65e1c03b4aa3499c5328201f1"
  },
  "kernelspec": {
   "display_name": "Python 3.10.4 64-bit",
   "language": "python",
   "name": "python3"
  },
  "language_info": {
   "codemirror_mode": {
    "name": "ipython",
    "version": 3
   },
   "file_extension": ".py",
   "mimetype": "text/x-python",
   "name": "python",
   "nbconvert_exporter": "python",
   "pygments_lexer": "ipython3",
   "version": "3.10.4"
  },
  "orig_nbformat": 4
 },
 "nbformat": 4,
 "nbformat_minor": 2
}
