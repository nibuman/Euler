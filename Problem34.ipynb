{
 "cells": [
  {
   "cell_type": "markdown",
   "metadata": {},
   "source": [
    "# Problem 34\n",
    "## Digit factorials\n",
    "\n",
    "145 is a curious number, as $1! + 4! + 5! = 1 + 24 + 120 = 145$.\n",
    "\n",
    "Find the sum of all numbers which are equal to the sum of the factorial of their digits.\n",
    "\n",
    "Note: As $1! = 1$ and $2! = 2$ are not sums they are not included.\n"
   ]
  },
  {
   "cell_type": "code",
   "execution_count": 16,
   "metadata": {},
   "outputs": [
    {
     "name": "stdout",
     "output_type": "stream",
     "text": [
      "limit =  9999999\n",
      "145\n",
      "40585\n"
     ]
    }
   ],
   "source": [
    "import math\n",
    "\n",
    "#pre-populate a list of the factorials of every digit\n",
    "fac_list = []\n",
    "for n in range(10): fac_list.append(math.factorial(n))\n",
    "\n",
    "def SumOfFactorials(num):\n",
    "    fac_sum = 0\n",
    "    for d in str(num): fac_sum += (fac_list[int(d)])\n",
    "    return fac_sum\n",
    "\n",
    "#Set a search limit based on the smallest int of the form 9999...\n",
    "#that is smaller than the sum of the factorials of its digits\n",
    "limit = 9\n",
    "e = 1\n",
    "while limit < SumOfFactorials(limit):\n",
    "    limit += 9*10**e\n",
    "    e += 1\n",
    "\n",
    "print(\"limit = \", limit)\n",
    "\n",
    "for n in range(3, limit):\n",
    "    fac_sum = SumOfFactorials(n)\n",
    "    if fac_sum == n: print(fac_sum)"
   ]
  }
 ],
 "metadata": {
  "interpreter": {
   "hash": "916dbcbb3f70747c44a77c7bcd40155683ae19c65e1c03b4aa3499c5328201f1"
  },
  "kernelspec": {
   "display_name": "Python 3.10.4 64-bit",
   "language": "python",
   "name": "python3"
  },
  "language_info": {
   "codemirror_mode": {
    "name": "ipython",
    "version": 3
   },
   "file_extension": ".py",
   "mimetype": "text/x-python",
   "name": "python",
   "nbconvert_exporter": "python",
   "pygments_lexer": "ipython3",
   "version": "3.10.4"
  },
  "orig_nbformat": 4
 },
 "nbformat": 4,
 "nbformat_minor": 2
}
