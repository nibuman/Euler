{
 "cells": [
  {
   "cell_type": "markdown",
   "metadata": {},
   "source": [
    "# Problem 24\n",
    "\n",
    "A permutation is an ordered arrangement of objects. For example, 3124 is one possible permutation of the digits 1, 2, 3 and 4. If all of the permutations are listed numerically or alphabetically, we call it lexicographic order. The lexicographic permutations of 0, 1 and 2 are:\n",
    "\n",
    "012   021   102   120   201   210\n",
    "\n",
    "What is the millionth lexicographic permutation of the digits 0, 1, 2, 3, 4, 5, 6, 7, 8 and 9?\n"
   ]
  },
  {
   "cell_type": "code",
   "execution_count": 11,
   "metadata": {},
   "outputs": [],
   "source": [
    "\n",
    "digit_seq = [9, 8, 7, 6, 5, 4, 3, 2, 1, 0]\n",
    "\n",
    "pc = 1 #permutation count\n",
    "pl = 1000000 #permuation limit"
   ]
  },
  {
   "cell_type": "markdown",
   "metadata": {},
   "source": [
    "Try an iterative function... but this hits *'maximum recursion depth'* for longer sequences.."
   ]
  },
  {
   "cell_type": "code",
   "execution_count": null,
   "metadata": {},
   "outputs": [],
   "source": [
    "def next_perm(seq, pos):\n",
    "    global pc\n",
    "    global pl\n",
    "    l = len(seq)\n",
    "    cd = seq[pos] #current digit\n",
    "    ts = [] #temp sequence\n",
    "    td = 0 #temp digit\n",
    "    \n",
    "\n",
    "    for i in range(0, pos):\n",
    "        ts.append(seq[i])\n",
    "    ts.sort()\n",
    "    x = 0\n",
    "    while x < len(ts) - 1 and ts[x] <= cd:\n",
    "        x = x + 1 \n",
    "    if ts[x] <= cd:\n",
    "        if pos < l - 1:\n",
    "            next_perm(seq, pos + 1)\n",
    "        return\n",
    "    else:\n",
    "        pc = pc + 1\n",
    "        td = ts.pop(x)\n",
    "        ts.append(cd)\n",
    "        ts.sort()\n",
    "        ts.reverse()\n",
    "        ts.append(td)\n",
    "        for i,d in enumerate(ts):\n",
    "            seq[i] = d\n",
    "        if pc >= pl:\n",
    "            print(\"seq =\", seq, \" ts = \", ts, \" cd = \", cd)\n",
    "            return\n",
    "            \n",
    "        next_perm(seq, 1)\n",
    "        return\n",
    "    return        \n",
    "next_perm(digit_seq, 1)\n",
    "print(\"perms = \", pc)"
   ]
  },
  {
   "cell_type": "markdown",
   "metadata": {},
   "source": [
    "Try just increasing the number by 1 then checking whether the list of numbers is the same...\n",
    "Works but takes about 10s to find the 6000th permutation and 1m 35s to find the 50000th so on course for around 30min for 1 x 10^6^"
   ]
  },
  {
   "cell_type": "code",
   "execution_count": null,
   "metadata": {},
   "outputs": [],
   "source": [
    "def find_perms(seq):\n",
    "    print(seq)\n",
    "    global pc\n",
    "    global pl\n",
    "    l = len(seq)\n",
    "    original_seq = seq.copy()\n",
    "    original_seq.sort()\n",
    "\n",
    "    while pc < pl:\n",
    "           \n",
    "        i = 0\n",
    "        inc = 1\n",
    "        \n",
    "        while inc == 1 and i < l:\n",
    "            seq[i] = seq[i] + inc\n",
    "            if seq[i] == 10:\n",
    "                seq[i] = 0\n",
    "                inc = 1\n",
    "            else:\n",
    "                inc = 0\n",
    "            i = i + 1\n",
    "\n",
    "        new_seq = seq.copy()\n",
    "        new_seq.sort()        \n",
    "\n",
    "        if new_seq == original_seq:\n",
    "            pc = pc + 1\n",
    "            \n",
    "    print(seq)\n",
    "    return        \n",
    "\n",
    "find_perms(digit_seq)"
   ]
  },
  {
   "cell_type": "markdown",
   "metadata": {},
   "source": [
    "Try re-writing the iterative method as a loop..."
   ]
  },
  {
   "cell_type": "code",
   "execution_count": 12,
   "metadata": {},
   "outputs": [
    {
     "name": "stdout",
     "output_type": "stream",
     "text": [
      "[0, 6, 4, 5, 1, 9, 3, 8, 7, 2]  count =  1000000\n"
     ]
    }
   ],
   "source": [
    "def perm_loop(seq):\n",
    "    global pc\n",
    "    global pl\n",
    "    l = len(seq)\n",
    "    ts = [] #temp sequence\n",
    "    td = 0 #temp digit\n",
    "    n = 1\n",
    "\n",
    "    while n < l and pc < pl:\n",
    "        cd = seq[n]\n",
    "        ts = seq[0:n].copy()\n",
    "        ts.sort()\n",
    "        n1 = 0\n",
    "        l1 = len(ts)\n",
    "        change = False\n",
    "        while n1 < l1 and change == False:\n",
    "            if ts[n1] > cd:\n",
    "                change = True\n",
    "                td = ts.pop(n1)\n",
    "                ts.append(cd)\n",
    "                ts.sort()\n",
    "                ts.reverse()\n",
    "                ts.append(td)\n",
    "            n1 = n1 + 1\n",
    "        if change == True:\n",
    "            for i in range(0, len(ts)):\n",
    "                seq[i] = ts[i]\n",
    "            n = 1\n",
    "            pc = pc + 1\n",
    "            \n",
    "        else:\n",
    "            n = n + 1\n",
    "           \n",
    "    print(seq , \" count = \", pc)\n",
    "\n",
    "\n",
    "perm_loop(digit_seq)"
   ]
  },
  {
   "cell_type": "markdown",
   "metadata": {},
   "source": [
    "*It works!* 2.4s to find the answer. Note that it gives the numbers in reverse order, so actual answer is 2783915460"
   ]
  }
 ],
 "metadata": {
  "interpreter": {
   "hash": "916dbcbb3f70747c44a77c7bcd40155683ae19c65e1c03b4aa3499c5328201f1"
  },
  "kernelspec": {
   "display_name": "Python 3.9.7 64-bit",
   "language": "python",
   "name": "python3"
  },
  "language_info": {
   "codemirror_mode": {
    "name": "ipython",
    "version": 3
   },
   "file_extension": ".py",
   "mimetype": "text/x-python",
   "name": "python",
   "nbconvert_exporter": "python",
   "pygments_lexer": "ipython3",
   "version": "3.9.7"
  },
  "orig_nbformat": 4
 },
 "nbformat": 4,
 "nbformat_minor": 2
}
