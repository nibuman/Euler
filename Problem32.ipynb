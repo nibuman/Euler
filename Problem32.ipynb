{
 "cells": [
  {
   "cell_type": "markdown",
   "metadata": {},
   "source": [
    "# Problem 32\n",
    "## Pandigital products\n",
    "\n",
    "We shall say that an n-digit number is pandigital if it makes use of all the digits 1 to n exactly once; for example, the 5-digit number, 15234, is 1 through 5 pandigital.\n",
    "\n",
    "The product 7254 is unusual, as the identity, $39 × 186 = 7254$, containing multiplicand, multiplier, and product is 1 through 9 pandigital.\n",
    "\n",
    "Find the sum of all products whose multiplicand/multiplier/product identity can be written as a 1 through 9 pandigital.\n",
    "HINT: Some products can be obtained in more than one way so be sure to only include it once in your sum.\n"
   ]
  },
  {
   "cell_type": "code",
   "execution_count": 12,
   "metadata": {},
   "outputs": [
    {
     "name": "stdout",
     "output_type": "stream",
     "text": [
      "4 1738 6952\n",
      "4 1963 7852\n",
      "12 483 5796\n",
      "18 297 5346\n",
      "27 198 5346\n",
      "28 157 4396\n",
      "39 186 7254\n",
      "42 138 5796\n",
      "48 159 7632\n",
      "[6952, 7852, 5796, 5346, 4396, 7254, 7632]\n",
      "45228\n"
     ]
    }
   ],
   "source": [
    "all_digits = [1,2,3,4,5,6,7,8,9]\n",
    "products = []\n",
    "\n",
    "for x in range(1, 100):\n",
    "    for y in range(100, 10000):\n",
    "        p = x*y\n",
    "        if p < 10000 and p > 1000:\n",
    "            these_digits = []\n",
    "            for d in str(p): these_digits.append(int(d))\n",
    "            for d in str(x): these_digits.append(int(d))\n",
    "            for d in str(y): these_digits.append(int(d))\n",
    "            these_digits.sort()\n",
    "            if these_digits == all_digits:\n",
    "                if p not in products: products.append(p)\n",
    "                print(x, y, p)\n",
    "        \n",
    "print(products)\n",
    "print(sum(products))"
   ]
  },
  {
   "cell_type": "code",
   "execution_count": 23,
   "metadata": {},
   "outputs": [
    {
     "name": "stdout",
     "output_type": "stream",
     "text": [
      "[4396, 5346, 5796, 6952, 7254, 7632, 7852]\n",
      "45228\n"
     ]
    }
   ],
   "source": [
    "all_digits = [\"1\",\"2\",\"3\",\"4\",\"5\",\"6\",\"7\",\"8\",\"9\"]\n",
    "products = []\n",
    "\n",
    "for p in range(1000, 10000):\n",
    "    these_digits = all_digits.copy()\n",
    "    not_pandigital_flag = False\n",
    "    for d in str(p):\n",
    "        if d in these_digits:\n",
    "            these_digits.remove(d)\n",
    "        else:\n",
    "            not_pandigital_flag = True\n",
    "            break\n",
    "    if not_pandigital_flag: continue\n",
    "\n",
    "    for x in range(1, 100):\n",
    "        not_pandigital_flag = False\n",
    "        these_digits2 =  these_digits.copy()\n",
    "        for d in str(x):\n",
    "            if d in these_digits2:\n",
    "                these_digits2.remove(d)\n",
    "            else:\n",
    "                not_pandigital_flag = True\n",
    "                break\n",
    "        if not_pandigital_flag: continue\n",
    "        if p%x != 0: continue\n",
    "        y = int(p/x)\n",
    "        for d in str(y):\n",
    "            if d in these_digits2:\n",
    "                these_digits2.remove(d)\n",
    "            else:\n",
    "                not_pandigital_flag = True\n",
    "                break\n",
    "        if not_pandigital_flag: continue\n",
    "        if p not in products and len(these_digits2) == 0: products.append(p)\n",
    "        #print(x, y, p)\n",
    "        \n",
    "\n",
    "\n",
    "        \n",
    "print(products)\n",
    "print(sum(products))"
   ]
  }
 ],
 "metadata": {
  "interpreter": {
   "hash": "916dbcbb3f70747c44a77c7bcd40155683ae19c65e1c03b4aa3499c5328201f1"
  },
  "kernelspec": {
   "display_name": "Python 3.10.4 64-bit",
   "language": "python",
   "name": "python3"
  },
  "language_info": {
   "codemirror_mode": {
    "name": "ipython",
    "version": 3
   },
   "file_extension": ".py",
   "mimetype": "text/x-python",
   "name": "python",
   "nbconvert_exporter": "python",
   "pygments_lexer": "ipython3",
   "version": "3.10.4"
  },
  "orig_nbformat": 4
 },
 "nbformat": 4,
 "nbformat_minor": 2
}
