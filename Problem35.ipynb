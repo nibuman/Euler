{
 "cells": [
  {
   "cell_type": "markdown",
   "metadata": {},
   "source": [
    "# Problem 35\n",
    "## Circular Primes\n",
    "\n",
    "The number, 197, is called a circular prime because all rotations of the digits: 197, 971, and 719, are themselves prime.\n",
    "\n",
    "There are thirteen such primes below 100: 2, 3, 5, 7, 11, 13, 17, 31, 37, 71, 73, 79, and 97.\n",
    "\n",
    "How many circular primes are there below one million?\n"
   ]
  },
  {
   "cell_type": "code",
   "execution_count": 21,
   "metadata": {},
   "outputs": [
    {
     "name": "stdout",
     "output_type": "stream",
     "text": [
      "Oops\n",
      "[2, 3, 5, 7, 11, 13, 17, 31, 37, 71, 73, 79, 97, 113, 131, 197, 199, 311, 337, 373, 719, 733, 919, 971, 991, 1193, 1931, 3119, 3779, 7793, 7937, 9311, 9377, 11939, 19391, 19937, 37199, 39119, 71993, 91193, 93719, 93911, 99371, 193939, 199933, 319993, 331999, 391939, 393919, 919393, 933199, 939193, 939391, 993319, 999331]\n",
      "55\n"
     ]
    }
   ],
   "source": [
    "from primelist import Sieve\n",
    "\n",
    "def rotateDigits(num):\n",
    "    digitList = []\n",
    "    digitString = \"\"\n",
    "    for d in str(num):\n",
    "        digitList.append(d)\n",
    "    digitList.insert(0, digitList.pop())\n",
    "    for d in digitList:\n",
    "        digitString += d\n",
    "    return int(digitString)\n",
    "\n",
    "limit = 1000000\n",
    "mySieve = Sieve(limit)\n",
    "rotatable_primes = []\n",
    "\n",
    "thisPrime = mySieve.currentPrime\n",
    "\n",
    "while thisPrime:\n",
    "    prime_flag = True\n",
    "    temp_prime = thisPrime\n",
    "    for n in range(len(str(thisPrime))-1):\n",
    "        temp_prime = rotateDigits(temp_prime)\n",
    "        if not mySieve.isPrime(temp_prime):\n",
    "            prime_flag = False\n",
    "            break\n",
    "    if prime_flag:\n",
    "        rotatable_primes.append(thisPrime)\n",
    "    thisPrime = mySieve.nextPrime()\n",
    "print(rotatable_primes)\n",
    "print(len(rotatable_primes))\n",
    "\n",
    "    \n",
    "\n"
   ]
  }
 ],
 "metadata": {
  "interpreter": {
   "hash": "916dbcbb3f70747c44a77c7bcd40155683ae19c65e1c03b4aa3499c5328201f1"
  },
  "kernelspec": {
   "display_name": "Python 3.10.4 64-bit",
   "language": "python",
   "name": "python3"
  },
  "language_info": {
   "codemirror_mode": {
    "name": "ipython",
    "version": 3
   },
   "file_extension": ".py",
   "mimetype": "text/x-python",
   "name": "python",
   "nbconvert_exporter": "python",
   "pygments_lexer": "ipython3",
   "version": "3.10.4"
  },
  "orig_nbformat": 4
 },
 "nbformat": 4,
 "nbformat_minor": 2
}
