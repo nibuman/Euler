{
 "cells": [
  {
   "cell_type": "code",
   "execution_count": null,
   "metadata": {},
   "outputs": [],
   "source": []
  },
  {
   "cell_type": "markdown",
   "metadata": {},
   "source": [
    "# Problem 23\n",
    "\n",
    "A perfect number is a number for which the sum of its proper divisors is exactly equal to the number. For example, the sum of the proper divisors of 28 would be 1 + 2 + 4 + 7 + 14 = 28, which means that 28 is a perfect number.\n",
    "\n",
    "A number n is called deficient if the sum of its proper divisors is less than n and it is called abundant if this sum exceeds n.\n",
    "\n",
    "As 12 is the smallest abundant number, 1 + 2 + 3 + 4 + 6 = 16, the smallest number that can be written as the sum of two abundant numbers is 24. By mathematical analysis, it can be shown that all integers greater than 28123 can be written as the sum of two abundant numbers. However, this upper limit cannot be reduced any further by analysis even though it is known that the greatest number that cannot be expressed as the sum of two abundant numbers is less than this limit.\n",
    "\n",
    "Find the sum of all the positive integers which cannot be written as the sum of two abundant numbers.\n"
   ]
  },
  {
   "cell_type": "markdown",
   "metadata": {},
   "source": [
    "Create a class called 'abundantnum', this creates an array based on the prime sieve class (so a bit array)"
   ]
  },
  {
   "cell_type": "code",
   "execution_count": null,
   "metadata": {},
   "outputs": [],
   "source": [
    "from bitarray import bitarray\n",
    "import copy\n",
    "\n",
    "\n",
    "class AbundantNum:\n",
    "    # The sieve itself is stored as a boolean array where if array[n]=false then n is not abundant\n",
    "\t# if array[n]=true then n is abundant\n",
    "    # size is how big the sieve should be (i.e. the highest number to be checked for 'abundantness'\n",
    "\n",
    "    def __init__(self, size):   \n",
    "        self.sieveArray = bitarray(size)\n",
    "        self.sieveArray.setall(False)\n",
    "        self.maxNum = size\n",
    "        self.currentNum = 1       \n",
    "\n",
    "        for n in range(size):\n",
    "            m = 1\n",
    "            divList = [] #list of divisors for each number\n",
    "            divLimit = n/2\n",
    "            while m <= divLimit:\n",
    "                if n % m == 0:\n",
    "                    divList.append(m)\n",
    "                m = m + 1\n",
    "            if sum(divList) > n:\n",
    "                #if n % 2 != 0: print(n) #print odd abundant numbers\n",
    "                self.sieveArray[n] = True\n",
    "        print(\"Array of abundant numbers up to \", size, \" created.\")\n",
    "    \n",
    "        self.firstAbundant()\n",
    "\n",
    "    def isAbundant(self, num):\n",
    "        return self.sieveArray[num]\n",
    "\n",
    "    def printSieve(self):\n",
    "        return self.sieveArray.to01()\n",
    "\n",
    "    def myIndex(self, value, start, end):\n",
    "        try:\n",
    "            return self.sieveArray.index(value, start, end)\n",
    "        except ValueError:\n",
    "            print(\"Oops\")\n",
    "            return 0\n",
    "\n",
    "    def setNum(self, value):\n",
    "        self.currentNum = value\n",
    "        if self.isAbundant(self.currentNum):\n",
    "            return self.currentNum\n",
    "        else:\n",
    "            print(\"Error in setting number\")\n",
    "\n",
    "    def nextAbundant(self):\n",
    "        self.currentNum = self.myIndex(1, self.currentNum + 1, self.maxNum)\n",
    "        return self.currentNum\n",
    "\n",
    "    def firstAbundant(self):\n",
    "        self.currentNum = self.myIndex(1, 0, self.maxNum)\n",
    "        return self.currentNum\n"
   ]
  },
  {
   "cell_type": "code",
   "execution_count": null,
   "metadata": {},
   "outputs": [],
   "source": [
    "numLimit = 5000\n",
    "\n",
    "AN = AbundantNum(numLimit)\n",
    "AN2 = copy.deepcopy(AN)\n",
    "\n",
    "notAbundantSumList = []\n",
    "\n",
    "# a + b = c\n",
    "a = AN.firstAbundant()\n",
    "b = AN2.firstAbundant()\n",
    "c = 1\n",
    "sumofabundant = False\n",
    "\n",
    "while c <= numLimit:\n",
    "    a = AN.firstAbundant() \n",
    "    b = AN2.firstAbundant()   \n",
    "    notAbundantSumList.append(c)\n",
    "    sumofabundant = False\n",
    "    while a + b <= c and sumofabundant == False:\n",
    "        while a + b <= c and sumofabundant == False:\n",
    "            if a + b == c:\n",
    "                notAbundantSumList.remove(c)\n",
    "                sumofabundant = True\n",
    "            b = AN2.nextAbundant()\n",
    "        a = AN.nextAbundant()\n",
    "        b = AN2.setNum(a)\n",
    "    c = c + 1    \n",
    "\n",
    "print(sum(notAbundantSumList))\n",
    "print(notAbundantSumList)\n",
    "        \n",
    "\n",
    "\n"
   ]
  },
  {
   "cell_type": "markdown",
   "metadata": {},
   "source": [
    "The first odd abundant number is 945, so no odd sums of abundant numbers below 957.\n",
    "1500 = 7.5s\n",
    "5000 = 3min 9s\n",
    "\n",
    "Take a slightly different approach? c - b = a, just subtract b and *check* whether a is abundant, rather than trying all possible values."
   ]
  },
  {
   "cell_type": "code",
   "execution_count": 9,
   "metadata": {},
   "outputs": [
    {
     "name": "stdout",
     "output_type": "stream",
     "text": [
      "Array of abundant numbers up to  28123  created.\n",
      "4179871\n"
     ]
    }
   ],
   "source": [
    "# c - a = b\n",
    "numLimit = 28123\n",
    "\n",
    "AN = AbundantNum(numLimit) #creates an object that contains all the abundant numbers upto the numLimit\n",
    "notAbundantSumList = [] #list to contain all numbers that are not the sum of abundant numbers\n",
    "\n",
    "c = 1\n",
    "sumofabundant = False\n",
    "\n",
    "while c <= numLimit:\n",
    "    a = AN.firstAbundant()  \n",
    "    notAbundantSumList.append(c) #each number added to list, then removed if found to be the sum of abundant numbers\n",
    "    sumofabundant = False\n",
    "    while a < c - 11 and sumofabundant == False:    #term in c-11 is there to prevent a from being advanced to a number\n",
    "                                                    #beyond the size of AN and so throwing an error.\n",
    "        b = c - a\n",
    "        if AN.isAbundant(b):\n",
    "            notAbundantSumList.remove(c)\n",
    "            sumofabundant = True\n",
    "        a = AN.nextAbundant()\n",
    "    c = c + 1    \n",
    "\n",
    "print(sum(notAbundantSumList))"
   ]
  },
  {
   "cell_type": "markdown",
   "metadata": {},
   "source": [
    "1500 = 0.3s\n",
    "5000 = 1.9s\n",
    "28123 = 31.3s (~6x faster than first attempt - most of this time is creating the AN object)\n",
    "\n",
    "Gives the correct answer 4179871"
   ]
  }
 ],
 "metadata": {
  "interpreter": {
   "hash": "916dbcbb3f70747c44a77c7bcd40155683ae19c65e1c03b4aa3499c5328201f1"
  },
  "kernelspec": {
   "display_name": "Python 3.9.7 64-bit",
   "language": "python",
   "name": "python3"
  },
  "language_info": {
   "codemirror_mode": {
    "name": "ipython",
    "version": 3
   },
   "file_extension": ".py",
   "mimetype": "text/x-python",
   "name": "python",
   "nbconvert_exporter": "python",
   "pygments_lexer": "ipython3",
   "version": "3.9.7"
  },
  "orig_nbformat": 4
 },
 "nbformat": 4,
 "nbformat_minor": 2
}
