{
 "cells": [
  {
   "cell_type": "markdown",
   "metadata": {},
   "source": [
    "# Problem 26\n",
    "## Reciprocal Cycles\n",
    "\n",
    "A unit fraction contains 1 in the numerator. The decimal representation of the unit fractions with denominators 2 to 10 are given:\n",
    "\n",
    "    1/2\t= \t0.5\n",
    "    1/3\t= \t0.(3)\n",
    "    1/4\t= \t0.25\n",
    "    1/5\t= \t0.2\n",
    "    1/6\t= \t0.1(6)\n",
    "    1/7\t= \t0.(142857)\n",
    "    1/8\t= \t0.125\n",
    "    1/9\t= \t0.(1)\n",
    "    1/10\t= \t0.1 \n",
    "\n",
    "Where 0.1(6) means 0.166666..., and has a 1-digit recurring cycle. It can be seen that 1/7 has a 6-digit recurring cycle.\n",
    "\n",
    "Find the value of d < 1000 for which 1/d contains the longest recurring cycle in its decimal fraction part."
   ]
  },
  {
   "cell_type": "code",
   "execution_count": 21,
   "metadata": {},
   "outputs": [],
   "source": [
    "max_d = 1000 #largest value of d\n",
    "max_cycle = 2500 #number of decimal places to check\n",
    "printdebug = False\n",
    "from decimal import * #Need to handle number as a 'decimal' rather than float or errors in sequence...\n",
    "getcontext().prec = max_cycle #sets the number of decimal places\n",
    "\n"
   ]
  },
  {
   "cell_type": "code",
   "execution_count": 22,
   "metadata": {},
   "outputs": [],
   "source": [
    "def ReciprocalToList(d):   \n",
    "#return 1/d as a list of digits\n",
    "    leading_zero_flag = True    \n",
    "    num = Decimal(1)/Decimal(d)\n",
    "    numList = list(str(num))\n",
    "#Now going to strip out all the leading zeros and decimal point\n",
    "    while leading_zero_flag == True:\n",
    "        numList.pop(0)\n",
    "        if not(numList[0] == \"0\" or numList[0] == \".\"): leading_zero_flag = False\n",
    "   \n",
    "    return numList"
   ]
  },
  {
   "cell_type": "code",
   "execution_count": 23,
   "metadata": {},
   "outputs": [],
   "source": [
    "#This bit just for testing\n",
    "# \n",
    "# from decimal import Decimal[n] = \"\n",
    "x = 1\n",
    "y = 983\n",
    "#print(\"float = \", x/y)\n",
    "#print(\"decimal = \", Decimal(x)/Decimal(y))\n",
    "#print(ReciprocalToList(983))\n",
    "#z = str(Decimal(x)/Decimal(y))\n",
    "#print(z)\n"
   ]
  },
  {
   "cell_type": "code",
   "execution_count": 24,
   "metadata": {},
   "outputs": [],
   "source": [
    "def CheckForRepeats(nlist):\n",
    "    nlist.pop(0) #removing the first number as these are sometimes not part of sequence\n",
    "    seq_list = []\n",
    "    current_repeat = 0\n",
    "\n",
    "    while len(seq_list) < (len(nlist) / 2) - 1:\n",
    "        seq_flag = True\n",
    "        seq_list.append(nlist[current_repeat])\n",
    "        for n in range(0, len(seq_list)):\n",
    "            if seq_list[n] != nlist[n+len(seq_list)]: seq_flag = False        \n",
    "        current_repeat = current_repeat + 1\n",
    "        if printdebug: print(\"nlist \", nlist, \" seq \", seq_list)\n",
    "        if seq_flag:\n",
    "            return current_repeat            \n",
    "    \n",
    "    return current_repeat\n"
   ]
  },
  {
   "cell_type": "code",
   "execution_count": 25,
   "metadata": {},
   "outputs": [
    {
     "name": "stdout",
     "output_type": "stream",
     "text": [
      "Max cycle =  2500  d =  983  reps =  982\n"
     ]
    }
   ],
   "source": [
    "numList = []\n",
    "highest_rep = 0\n",
    "highest_d = 1\n",
    "\n",
    "for d in range(3, max_d + 1, 2): #Only checking odd numbers\n",
    "\n",
    "    numList = ReciprocalToList(d)\n",
    "    thisRepeat = CheckForRepeats(numList)\n",
    "    if thisRepeat > highest_rep:\n",
    "        highest_rep = thisRepeat\n",
    "        highest_d = d\n",
    "print(\"Max cycle = \", max_cycle, \" d = \", highest_d, \" reps = \", highest_rep)\n"
   ]
  }
 ],
 "metadata": {
  "interpreter": {
   "hash": "916dbcbb3f70747c44a77c7bcd40155683ae19c65e1c03b4aa3499c5328201f1"
  },
  "kernelspec": {
   "display_name": "Python 3.9.7 64-bit",
   "language": "python",
   "name": "python3"
  },
  "language_info": {
   "codemirror_mode": {
    "name": "ipython",
    "version": 3
   },
   "file_extension": ".py",
   "mimetype": "text/x-python",
   "name": "python",
   "nbconvert_exporter": "python",
   "pygments_lexer": "ipython3",
   "version": "3.10.4"
  },
  "orig_nbformat": 4
 },
 "nbformat": 4,
 "nbformat_minor": 2
}
