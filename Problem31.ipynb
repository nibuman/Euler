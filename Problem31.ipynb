{
 "cells": [
  {
   "cell_type": "markdown",
   "metadata": {},
   "source": [
    "# Problem 31\n",
    "## Coin Sums\n",
    "\n",
    "\n",
    "\n",
    "In the United Kingdom the currency is made up of pound (£) and pence (p). There are eight coins in general circulation:\n",
    "\n",
    "    1p, 2p, 5p, 10p, 20p, 50p, £1 (100p), and £2 (200p).\n",
    "\n",
    "It is possible to make £2 in the following way:\n",
    "\n",
    "    1×£1 + 1×50p + 2×20p + 1×5p + 1×2p + 3×1p\n",
    "\n",
    "How many different ways can £2 be made using any number of coins?\n"
   ]
  },
  {
   "cell_type": "markdown",
   "metadata": {},
   "source": [
    "Just try a straightforward brute force algorithm first - can be used to check later attempts. Trying every combination..."
   ]
  },
  {
   "cell_type": "code",
   "execution_count": 3,
   "metadata": {},
   "outputs": [
    {
     "name": "stdout",
     "output_type": "stream",
     "text": [
      "73682\n"
     ]
    }
   ],
   "source": [
    "c1 = c2 = c5 = c10 = c20 = c50 = c100 = c200 = 0\n",
    "sum = 0\n",
    "count = 0\n",
    "target = 200\n",
    "\n",
    "def calcSum():\n",
    "    global c1, c2, c5, c10, c20, c50, c100, c200\n",
    "    thisSum = 0\n",
    "    thisSum += c1\n",
    "    thisSum += c2 * 2\n",
    "    thisSum += c5 * 5\n",
    "    thisSum += c10 * 10\n",
    "    thisSum += c20 * 20\n",
    "    thisSum += c50 * 50\n",
    "    thisSum += c100 * 100\n",
    "    thisSum += c200 * 200\n",
    "\n",
    "    return thisSum\n",
    "\n",
    "\n",
    "while sum < target: #£2\n",
    "    while sum < target: #£1\n",
    "        while sum < target: #50p\n",
    "            while sum < target: #20p\n",
    "                while sum < target: #10p\n",
    "                    while sum < target: #5p\n",
    "                        while sum < target: #2p\n",
    "                            while sum < target: #1p\n",
    "                                c1 += 1\n",
    "                                sum = calcSum()\n",
    "                                if sum == target: count += 1\n",
    "                            c1 = 0\n",
    "                            c2 += 1\n",
    "                            sum = calcSum()\n",
    "                            if sum == target: count += 1\n",
    "                        c1 = c2 = 0\n",
    "                        c5 += 1\n",
    "                        sum = calcSum()\n",
    "                        if sum == target: count += 1\n",
    "                    c1 = c2 = c5 = 0\n",
    "                    c10 += 1\n",
    "                    sum = calcSum()\n",
    "                    if sum == target: count += 1\n",
    "                c1 = c2 = c5 = c10 = 0\n",
    "                c20 += 1\n",
    "                sum = calcSum()\n",
    "                if sum == target: count += 1\n",
    "            c1 = c2 = c5 = c10 = c20 = 0\n",
    "            c50 += 1\n",
    "            sum = calcSum()\n",
    "            if sum == target: count += 1\n",
    "        c1 = c2 = c5 = c10 = c20 = c50 = 0\n",
    "        c100 += 1\n",
    "        sum = calcSum()\n",
    "        if sum == target: count += 1\n",
    "    c1 = c2 = c5 = c10 = c20 = c50 = c100 = 0\n",
    "    c200 += 1\n",
    "    sum = calcSum()\n",
    "    if sum == target: count += 1\n",
    "\n",
    "print(count)"
   ]
  },
  {
   "cell_type": "markdown",
   "metadata": {},
   "source": [
    "11 seconds - Should be able to speed this up with more efficient algorithm.\n",
    "\n",
    "For each possible value up to the target value (£2 in this case) add up the number of combinations due to each individual coin, starting from the lowest. \n",
    "So each value (1,2,3,4,5 ... 200) has one way of being made from 1p coins. Then values 2+ have additional combinations due to the 2p, 2 has 2 combinations (1p,1p or 2p), 4 has 3 arrangements (1 with all 1ps and 2 which involve the 2p coin)"
   ]
  },
  {
   "cell_type": "code",
   "execution_count": 5,
   "metadata": {},
   "outputs": [
    {
     "name": "stdout",
     "output_type": "stream",
     "text": [
      "73682\n"
     ]
    }
   ],
   "source": [
    "coins = [1, 2, 5, 10, 20, 50, 100, 200]\n",
    "target = 200\n",
    "coin_arrangements = [0] * (target + 1)\n",
    "coin_arrangements[0] = 1\n",
    "\n",
    "for coin in coins:\n",
    "    for n in range(coin, target + 1):\n",
    "        coin_arrangements[n] += coin_arrangements[n - coin]\n",
    "\n",
    "print(coin_arrangements[target])"
   ]
  },
  {
   "cell_type": "markdown",
   "metadata": {},
   "source": [
    "0.1seconds - at least 3 orders of magnitude faster"
   ]
  }
 ],
 "metadata": {
  "interpreter": {
   "hash": "916dbcbb3f70747c44a77c7bcd40155683ae19c65e1c03b4aa3499c5328201f1"
  },
  "kernelspec": {
   "display_name": "Python 3.10.4 64-bit",
   "language": "python",
   "name": "python3"
  },
  "language_info": {
   "codemirror_mode": {
    "name": "ipython",
    "version": 3
   },
   "file_extension": ".py",
   "mimetype": "text/x-python",
   "name": "python",
   "nbconvert_exporter": "python",
   "pygments_lexer": "ipython3",
   "version": "3.10.4"
  },
  "orig_nbformat": 4
 },
 "nbformat": 4,
 "nbformat_minor": 2
}
