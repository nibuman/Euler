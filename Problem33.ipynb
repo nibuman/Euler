{
 "cells": [
  {
   "cell_type": "markdown",
   "metadata": {},
   "source": [
    "# Problem 33\n",
    "## Digit cancelling fractions\n",
    "\n",
    "\n",
    "\n",
    "The fraction $49/98$ is a curious fraction, as an inexperienced mathematician in attempting to simplify it may incorrectly believe that $49/98 = 4/8$, which is correct, is obtained by cancelling the 9s.\n",
    "\n",
    "We shall consider fractions like, $30/50 = 3/5$, to be trivial examples.\n",
    "\n",
    "There are exactly four non-trivial examples of this type of fraction, less than one in value, and containing two digits in the numerator and denominator.\n",
    "\n",
    "If the product of these four fractions is given in its lowest common terms, find the value of the denominator.\n"
   ]
  },
  {
   "cell_type": "code",
   "execution_count": 26,
   "metadata": {},
   "outputs": [
    {
     "name": "stdout",
     "output_type": "stream",
     "text": [
      "387296 38729600\n"
     ]
    }
   ],
   "source": [
    "def list_from_int(num):\n",
    "    int_list = []\n",
    "    for d in str(num):\n",
    "        int_list.append(d)\n",
    "    return int_list\n",
    "\n",
    "num_prod = 1\n",
    "den_prod = 1\n",
    "\n",
    "for num in range(10,100):\n",
    "    num_list = list_from_int(num)    \n",
    "    if num_list[0] == num_list[1] or num_list.count(\"0\") > 0: continue\n",
    "\n",
    "    for den in range(num + 1, 100):\n",
    "        den_list = list_from_int(den)\n",
    "        if den_list[0] == den_list[1] or den_list.count(\"0\") > 0: continue\n",
    "\n",
    "        if num_list[0] in den_list or num_list[1] in den_list:\n",
    "            div1 = num/den\n",
    "\n",
    "            if num_list[0] in den_list:\n",
    "                n2 = num_list[1]\n",
    "                den_list.remove(num_list[0])\n",
    "                d2 = den_list[0]\n",
    "            else:\n",
    "                n2 = num_list[0]\n",
    "                den_list.remove(num_list[1])\n",
    "                d2 = den_list[0]\n",
    "\n",
    "            div2 = int(n2)/int(d2)\n",
    "            \n",
    "            if div1 == div2:\n",
    "                num_prod *= num\n",
    "                den_prod *= den\n",
    "        \n",
    "print(num_prod, den_prod)"
   ]
  },
  {
   "cell_type": "markdown",
   "metadata": {},
   "source": [
    "So answer is $387296/38729600 = 1/100 \\therefore denominator = 100$\n",
    "Answer in $<0.1$ s"
   ]
  }
 ],
 "metadata": {
  "interpreter": {
   "hash": "916dbcbb3f70747c44a77c7bcd40155683ae19c65e1c03b4aa3499c5328201f1"
  },
  "kernelspec": {
   "display_name": "Python 3.10.4 64-bit",
   "language": "python",
   "name": "python3"
  },
  "language_info": {
   "codemirror_mode": {
    "name": "ipython",
    "version": 3
   },
   "file_extension": ".py",
   "mimetype": "text/x-python",
   "name": "python",
   "nbconvert_exporter": "python",
   "pygments_lexer": "ipython3",
   "version": "3.10.4"
  },
  "orig_nbformat": 4
 },
 "nbformat": 4,
 "nbformat_minor": 2
}
