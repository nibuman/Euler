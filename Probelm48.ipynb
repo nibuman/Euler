{
 "cells": [
  {
   "cell_type": "markdown",
   "metadata": {},
   "source": [
    "# Problem 48\n",
    "## Self powers\n",
    "\n",
    "The series, $1^1 + 2^2 + 3^3 + ... + 10^{10} = 10405071317$.\n",
    "\n",
    "Find the last ten digits of the series, $1^1 + 2^2 + 3^3 + ... + 1000^{1000}$.\n"
   ]
  },
  {
   "cell_type": "code",
   "execution_count": 39,
   "metadata": {},
   "outputs": [
    {
     "name": "stdout",
     "output_type": "stream",
     "text": [
      "9110846700\n"
     ]
    }
   ],
   "source": [
    "## Making the assumption that as the numbers get near 1000 they will be too big\n",
    "## So just keep the last 10 digits\n",
    "\n",
    "max_power = 1000\n",
    "max_digits = 10\n",
    "sum_of_powers = 0\n",
    "\n",
    "for x in range(1, max_power + 1):\n",
    "    current_prod = 1\n",
    "    for y in range(x):\n",
    "        current_prod = current_prod * x\n",
    "        current_prod = int(str(current_prod)[-max_digits: ])\n",
    "    sum_of_powers += current_prod\n",
    "\n",
    "sum_of_powers = str(sum_of_powers)[-max_digits: ]\n",
    "print(sum_of_powers)"
   ]
  },
  {
   "cell_type": "markdown",
   "metadata": {},
   "source": [
    "9110846700"
   ]
  },
  {
   "cell_type": "code",
   "execution_count": 34,
   "metadata": {},
   "outputs": [
    {
     "name": "stdout",
     "output_type": "stream",
     "text": [
      "9110846700\n"
     ]
    }
   ],
   "source": [
    "## However, looks like just doing and summing the powers works fine, and is faster...\n",
    " \n",
    "prod = 0\n",
    "for x in range(1, 1001):\n",
    "    prod += x**x\n",
    "prod = str(prod)[-10:]\n",
    "print(prod)\n"
   ]
  }
 ],
 "metadata": {
  "interpreter": {
   "hash": "916dbcbb3f70747c44a77c7bcd40155683ae19c65e1c03b4aa3499c5328201f1"
  },
  "kernelspec": {
   "display_name": "Python 3.10.4 64-bit",
   "language": "python",
   "name": "python3"
  },
  "language_info": {
   "codemirror_mode": {
    "name": "ipython",
    "version": 3
   },
   "file_extension": ".py",
   "mimetype": "text/x-python",
   "name": "python",
   "nbconvert_exporter": "python",
   "pygments_lexer": "ipython3",
   "version": "3.10.4"
  },
  "orig_nbformat": 4
 },
 "nbformat": 4,
 "nbformat_minor": 2
}
